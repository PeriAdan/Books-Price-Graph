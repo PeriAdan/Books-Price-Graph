{
  "nbformat": 4,
  "nbformat_minor": 0,
  "metadata": {
    "colab": {
      "name": "Graphing.ipynb",
      "provenance": [],
      "authorship_tag": "ABX9TyPPWZLqi6kKDgFnc/Q/XujZ",
      "include_colab_link": true
    },
    "kernelspec": {
      "name": "python3",
      "display_name": "Python 3"
    },
    "language_info": {
      "name": "python"
    }
  },
  "cells": [
    {
      "cell_type": "markdown",
      "metadata": {
        "id": "view-in-github",
        "colab_type": "text"
      },
      "source": [
        "<a href=\"https://colab.research.google.com/github/PeriAdan/Books-Price-Graph/blob/main/Graphing.ipynb\" target=\"_parent\"><img src=\"https://colab.research.google.com/assets/colab-badge.svg\" alt=\"Open In Colab\"/></a>"
      ]
    },
    {
      "cell_type": "code",
      "metadata": {
        "id": "mJqTA-IMsEw0"
      },
      "source": [
        "import matplotlib.pyplot as plt\n",
        "import pandas as pd\n",
        "import numpy as np"
      ],
      "execution_count": 97,
      "outputs": []
    },
    {
      "cell_type": "code",
      "metadata": {
        "colab": {
          "base_uri": "https://localhost:8080/"
        },
        "id": "PPHqRj9LsrX3",
        "outputId": "13939853-1709-4a01-f18a-0bb1db08e675"
      },
      "source": [
        "from google.colab import drive\n",
        "\n",
        "drive.mount('/content/drive')"
      ],
      "execution_count": 98,
      "outputs": [
        {
          "output_type": "stream",
          "text": [
            "Drive already mounted at /content/drive; to attempt to forcibly remount, call drive.mount(\"/content/drive\", force_remount=True).\n"
          ],
          "name": "stdout"
        }
      ]
    },
    {
      "cell_type": "code",
      "metadata": {
        "id": "p8TFcPI4suNu"
      },
      "source": [
        "df = pd.read_csv(\"/content/drive/MyDrive/PTDataScience/PandasForDataManipulation/prc_hicp_midx_1_Data.csv\")"
      ],
      "execution_count": 99,
      "outputs": []
    },
    {
      "cell_type": "code",
      "metadata": {
        "colab": {
          "base_uri": "https://localhost:8080/",
          "height": 406
        },
        "id": "U_2JEjxltFH5",
        "outputId": "5e8ee4e0-d098-4e30-e158-4c4c167616b2"
      },
      "source": [
        "df"
      ],
      "execution_count": 100,
      "outputs": [
        {
          "output_type": "execute_result",
          "data": {
            "text/html": [
              "<div>\n",
              "<style scoped>\n",
              "    .dataframe tbody tr th:only-of-type {\n",
              "        vertical-align: middle;\n",
              "    }\n",
              "\n",
              "    .dataframe tbody tr th {\n",
              "        vertical-align: top;\n",
              "    }\n",
              "\n",
              "    .dataframe thead th {\n",
              "        text-align: right;\n",
              "    }\n",
              "</style>\n",
              "<table border=\"1\" class=\"dataframe\">\n",
              "  <thead>\n",
              "    <tr style=\"text-align: right;\">\n",
              "      <th></th>\n",
              "      <th>TIME</th>\n",
              "      <th>COICOP</th>\n",
              "      <th>COICOP_LABEL</th>\n",
              "      <th>UNIT</th>\n",
              "      <th>UNIT_LABEL</th>\n",
              "      <th>GEO</th>\n",
              "      <th>GEO_LABEL</th>\n",
              "      <th>Value</th>\n",
              "      <th>Flag and Footnotes</th>\n",
              "    </tr>\n",
              "  </thead>\n",
              "  <tbody>\n",
              "    <tr>\n",
              "      <th>0</th>\n",
              "      <td>2009M01</td>\n",
              "      <td>CP00</td>\n",
              "      <td>All-items HICP</td>\n",
              "      <td>I15</td>\n",
              "      <td>Index, 2015=100</td>\n",
              "      <td>EU27_2020</td>\n",
              "      <td>European Union - 27 countries (from 2020)</td>\n",
              "      <td>90.32</td>\n",
              "      <td>NaN</td>\n",
              "    </tr>\n",
              "    <tr>\n",
              "      <th>1</th>\n",
              "      <td>2009M01</td>\n",
              "      <td>CP095</td>\n",
              "      <td>Newspapers, books and stationery</td>\n",
              "      <td>I15</td>\n",
              "      <td>Index, 2015=100</td>\n",
              "      <td>EU27_2020</td>\n",
              "      <td>European Union - 27 countries (from 2020)</td>\n",
              "      <td>86.71</td>\n",
              "      <td>NaN</td>\n",
              "    </tr>\n",
              "    <tr>\n",
              "      <th>2</th>\n",
              "      <td>2009M01</td>\n",
              "      <td>CP0951</td>\n",
              "      <td>Books</td>\n",
              "      <td>I15</td>\n",
              "      <td>Index, 2015=100</td>\n",
              "      <td>EU27_2020</td>\n",
              "      <td>European Union - 27 countries (from 2020)</td>\n",
              "      <td>93.38</td>\n",
              "      <td>NaN</td>\n",
              "    </tr>\n",
              "    <tr>\n",
              "      <th>3</th>\n",
              "      <td>2009M01</td>\n",
              "      <td>CP09511</td>\n",
              "      <td>Fiction books</td>\n",
              "      <td>I15</td>\n",
              "      <td>Index, 2015=100</td>\n",
              "      <td>EU27_2020</td>\n",
              "      <td>European Union - 27 countries (from 2020)</td>\n",
              "      <td>:</td>\n",
              "      <td>NaN</td>\n",
              "    </tr>\n",
              "    <tr>\n",
              "      <th>4</th>\n",
              "      <td>2009M01</td>\n",
              "      <td>CP09512</td>\n",
              "      <td>Educational text books</td>\n",
              "      <td>I15</td>\n",
              "      <td>Index, 2015=100</td>\n",
              "      <td>EU27_2020</td>\n",
              "      <td>European Union - 27 countries (from 2020)</td>\n",
              "      <td>:</td>\n",
              "      <td>NaN</td>\n",
              "    </tr>\n",
              "    <tr>\n",
              "      <th>...</th>\n",
              "      <td>...</td>\n",
              "      <td>...</td>\n",
              "      <td>...</td>\n",
              "      <td>...</td>\n",
              "      <td>...</td>\n",
              "      <td>...</td>\n",
              "      <td>...</td>\n",
              "      <td>...</td>\n",
              "      <td>...</td>\n",
              "    </tr>\n",
              "    <tr>\n",
              "      <th>1179</th>\n",
              "      <td>2021M04</td>\n",
              "      <td>CP09511</td>\n",
              "      <td>Fiction books</td>\n",
              "      <td>I15</td>\n",
              "      <td>Index, 2015=100</td>\n",
              "      <td>EU27_2020</td>\n",
              "      <td>European Union - 27 countries (from 2020)</td>\n",
              "      <td>:</td>\n",
              "      <td>NaN</td>\n",
              "    </tr>\n",
              "    <tr>\n",
              "      <th>1180</th>\n",
              "      <td>2021M04</td>\n",
              "      <td>CP09512</td>\n",
              "      <td>Educational text books</td>\n",
              "      <td>I15</td>\n",
              "      <td>Index, 2015=100</td>\n",
              "      <td>EU27_2020</td>\n",
              "      <td>European Union - 27 countries (from 2020)</td>\n",
              "      <td>:</td>\n",
              "      <td>NaN</td>\n",
              "    </tr>\n",
              "    <tr>\n",
              "      <th>1181</th>\n",
              "      <td>2021M04</td>\n",
              "      <td>CP09513</td>\n",
              "      <td>Other non-fiction books</td>\n",
              "      <td>I15</td>\n",
              "      <td>Index, 2015=100</td>\n",
              "      <td>EU27_2020</td>\n",
              "      <td>European Union - 27 countries (from 2020)</td>\n",
              "      <td>:</td>\n",
              "      <td>NaN</td>\n",
              "    </tr>\n",
              "    <tr>\n",
              "      <th>1182</th>\n",
              "      <td>2021M04</td>\n",
              "      <td>CP09514</td>\n",
              "      <td>Binding services and E-book downloads</td>\n",
              "      <td>I15</td>\n",
              "      <td>Index, 2015=100</td>\n",
              "      <td>EU27_2020</td>\n",
              "      <td>European Union - 27 countries (from 2020)</td>\n",
              "      <td>:</td>\n",
              "      <td>NaN</td>\n",
              "    </tr>\n",
              "    <tr>\n",
              "      <th>1183</th>\n",
              "      <td>2021M04</td>\n",
              "      <td>CP09522</td>\n",
              "      <td>Magazines and periodicals</td>\n",
              "      <td>I15</td>\n",
              "      <td>Index, 2015=100</td>\n",
              "      <td>EU27_2020</td>\n",
              "      <td>European Union - 27 countries (from 2020)</td>\n",
              "      <td>:</td>\n",
              "      <td>NaN</td>\n",
              "    </tr>\n",
              "  </tbody>\n",
              "</table>\n",
              "<p>1184 rows × 9 columns</p>\n",
              "</div>"
            ],
            "text/plain": [
              "         TIME   COICOP  ...  Value Flag and Footnotes\n",
              "0     2009M01     CP00  ...  90.32                NaN\n",
              "1     2009M01    CP095  ...  86.71                NaN\n",
              "2     2009M01   CP0951  ...  93.38                NaN\n",
              "3     2009M01  CP09511  ...      :                NaN\n",
              "4     2009M01  CP09512  ...      :                NaN\n",
              "...       ...      ...  ...    ...                ...\n",
              "1179  2021M04  CP09511  ...      :                NaN\n",
              "1180  2021M04  CP09512  ...      :                NaN\n",
              "1181  2021M04  CP09513  ...      :                NaN\n",
              "1182  2021M04  CP09514  ...      :                NaN\n",
              "1183  2021M04  CP09522  ...      :                NaN\n",
              "\n",
              "[1184 rows x 9 columns]"
            ]
          },
          "metadata": {
            "tags": []
          },
          "execution_count": 100
        }
      ]
    },
    {
      "cell_type": "code",
      "metadata": {
        "colab": {
          "base_uri": "https://localhost:8080/"
        },
        "id": "RpH6TtSLtF30",
        "outputId": "7266e8cc-a88f-4678-a697-18c1f7a46ab3"
      },
      "source": [
        "df.value_counts()"
      ],
      "execution_count": 101,
      "outputs": [
        {
          "output_type": "execute_result",
          "data": {
            "text/plain": [
              "Series([], dtype: int64)"
            ]
          },
          "metadata": {
            "tags": []
          },
          "execution_count": 101
        }
      ]
    },
    {
      "cell_type": "code",
      "metadata": {
        "colab": {
          "base_uri": "https://localhost:8080/"
        },
        "id": "VwfThammtMZZ",
        "outputId": "db005db3-1c43-4dae-9c65-06dfe11a8ccd"
      },
      "source": [
        "df.info()"
      ],
      "execution_count": 102,
      "outputs": [
        {
          "output_type": "stream",
          "text": [
            "<class 'pandas.core.frame.DataFrame'>\n",
            "RangeIndex: 1184 entries, 0 to 1183\n",
            "Data columns (total 9 columns):\n",
            " #   Column              Non-Null Count  Dtype  \n",
            "---  ------              --------------  -----  \n",
            " 0   TIME                1184 non-null   object \n",
            " 1   COICOP              1184 non-null   object \n",
            " 2   COICOP_LABEL        1184 non-null   object \n",
            " 3   UNIT                1184 non-null   object \n",
            " 4   UNIT_LABEL          1184 non-null   object \n",
            " 5   GEO                 1184 non-null   object \n",
            " 6   GEO_LABEL           1184 non-null   object \n",
            " 7   Value               1184 non-null   object \n",
            " 8   Flag and Footnotes  0 non-null      float64\n",
            "dtypes: float64(1), object(8)\n",
            "memory usage: 83.4+ KB\n"
          ],
          "name": "stdout"
        }
      ]
    },
    {
      "cell_type": "code",
      "metadata": {
        "colab": {
          "base_uri": "https://localhost:8080/"
        },
        "id": "jyMF7V9btPuq",
        "outputId": "944e5b02-13e5-4769-cd43-98c4912c8a2f"
      },
      "source": [
        "df['Flag and Footnotes'].isnull()"
      ],
      "execution_count": 103,
      "outputs": [
        {
          "output_type": "execute_result",
          "data": {
            "text/plain": [
              "0       True\n",
              "1       True\n",
              "2       True\n",
              "3       True\n",
              "4       True\n",
              "        ... \n",
              "1179    True\n",
              "1180    True\n",
              "1181    True\n",
              "1182    True\n",
              "1183    True\n",
              "Name: Flag and Footnotes, Length: 1184, dtype: bool"
            ]
          },
          "metadata": {
            "tags": []
          },
          "execution_count": 103
        }
      ]
    },
    {
      "cell_type": "code",
      "metadata": {
        "colab": {
          "base_uri": "https://localhost:8080/",
          "height": 197
        },
        "id": "RMG9UEz4tqmM",
        "outputId": "437af1b4-4c3e-4ab6-da26-4453edcf28a6"
      },
      "source": [
        "df = df.drop(columns =['Flag and Footnotes'])\n",
        "df.head()"
      ],
      "execution_count": 104,
      "outputs": [
        {
          "output_type": "execute_result",
          "data": {
            "text/html": [
              "<div>\n",
              "<style scoped>\n",
              "    .dataframe tbody tr th:only-of-type {\n",
              "        vertical-align: middle;\n",
              "    }\n",
              "\n",
              "    .dataframe tbody tr th {\n",
              "        vertical-align: top;\n",
              "    }\n",
              "\n",
              "    .dataframe thead th {\n",
              "        text-align: right;\n",
              "    }\n",
              "</style>\n",
              "<table border=\"1\" class=\"dataframe\">\n",
              "  <thead>\n",
              "    <tr style=\"text-align: right;\">\n",
              "      <th></th>\n",
              "      <th>TIME</th>\n",
              "      <th>COICOP</th>\n",
              "      <th>COICOP_LABEL</th>\n",
              "      <th>UNIT</th>\n",
              "      <th>UNIT_LABEL</th>\n",
              "      <th>GEO</th>\n",
              "      <th>GEO_LABEL</th>\n",
              "      <th>Value</th>\n",
              "    </tr>\n",
              "  </thead>\n",
              "  <tbody>\n",
              "    <tr>\n",
              "      <th>0</th>\n",
              "      <td>2009M01</td>\n",
              "      <td>CP00</td>\n",
              "      <td>All-items HICP</td>\n",
              "      <td>I15</td>\n",
              "      <td>Index, 2015=100</td>\n",
              "      <td>EU27_2020</td>\n",
              "      <td>European Union - 27 countries (from 2020)</td>\n",
              "      <td>90.32</td>\n",
              "    </tr>\n",
              "    <tr>\n",
              "      <th>1</th>\n",
              "      <td>2009M01</td>\n",
              "      <td>CP095</td>\n",
              "      <td>Newspapers, books and stationery</td>\n",
              "      <td>I15</td>\n",
              "      <td>Index, 2015=100</td>\n",
              "      <td>EU27_2020</td>\n",
              "      <td>European Union - 27 countries (from 2020)</td>\n",
              "      <td>86.71</td>\n",
              "    </tr>\n",
              "    <tr>\n",
              "      <th>2</th>\n",
              "      <td>2009M01</td>\n",
              "      <td>CP0951</td>\n",
              "      <td>Books</td>\n",
              "      <td>I15</td>\n",
              "      <td>Index, 2015=100</td>\n",
              "      <td>EU27_2020</td>\n",
              "      <td>European Union - 27 countries (from 2020)</td>\n",
              "      <td>93.38</td>\n",
              "    </tr>\n",
              "    <tr>\n",
              "      <th>3</th>\n",
              "      <td>2009M01</td>\n",
              "      <td>CP09511</td>\n",
              "      <td>Fiction books</td>\n",
              "      <td>I15</td>\n",
              "      <td>Index, 2015=100</td>\n",
              "      <td>EU27_2020</td>\n",
              "      <td>European Union - 27 countries (from 2020)</td>\n",
              "      <td>:</td>\n",
              "    </tr>\n",
              "    <tr>\n",
              "      <th>4</th>\n",
              "      <td>2009M01</td>\n",
              "      <td>CP09512</td>\n",
              "      <td>Educational text books</td>\n",
              "      <td>I15</td>\n",
              "      <td>Index, 2015=100</td>\n",
              "      <td>EU27_2020</td>\n",
              "      <td>European Union - 27 countries (from 2020)</td>\n",
              "      <td>:</td>\n",
              "    </tr>\n",
              "  </tbody>\n",
              "</table>\n",
              "</div>"
            ],
            "text/plain": [
              "      TIME   COICOP  ...                                  GEO_LABEL  Value\n",
              "0  2009M01     CP00  ...  European Union - 27 countries (from 2020)  90.32\n",
              "1  2009M01    CP095  ...  European Union - 27 countries (from 2020)  86.71\n",
              "2  2009M01   CP0951  ...  European Union - 27 countries (from 2020)  93.38\n",
              "3  2009M01  CP09511  ...  European Union - 27 countries (from 2020)      :\n",
              "4  2009M01  CP09512  ...  European Union - 27 countries (from 2020)      :\n",
              "\n",
              "[5 rows x 8 columns]"
            ]
          },
          "metadata": {
            "tags": []
          },
          "execution_count": 104
        }
      ]
    },
    {
      "cell_type": "code",
      "metadata": {
        "colab": {
          "base_uri": "https://localhost:8080/"
        },
        "id": "ATzLYlwUtvb8",
        "outputId": "e6a29905-d8ea-43ef-96d1-1cbde0479bd2"
      },
      "source": [
        "df[\"Value\"].value_counts()"
      ],
      "execution_count": 105,
      "outputs": [
        {
          "output_type": "execute_result",
          "data": {
            "text/plain": [
              ":         483\n",
              "100.00      7\n",
              "100.23      6\n",
              "100.40      5\n",
              "100.13      4\n",
              "         ... \n",
              "103.29      1\n",
              "100.45      1\n",
              "96.18       1\n",
              "103.86      1\n",
              "115.32      1\n",
              "Name: Value, Length: 559, dtype: int64"
            ]
          },
          "metadata": {
            "tags": []
          },
          "execution_count": 105
        }
      ]
    },
    {
      "cell_type": "code",
      "metadata": {
        "colab": {
          "base_uri": "https://localhost:8080/"
        },
        "id": "WTKYNdsst4NI",
        "outputId": "bcac0dc0-d775-490f-97e3-00ec674e8f4e"
      },
      "source": [
        "df[\"UNIT_LABEL\"].value_counts"
      ],
      "execution_count": 106,
      "outputs": [
        {
          "output_type": "execute_result",
          "data": {
            "text/plain": [
              "<bound method IndexOpsMixin.value_counts of 0       Index, 2015=100\n",
              "1       Index, 2015=100\n",
              "2       Index, 2015=100\n",
              "3       Index, 2015=100\n",
              "4       Index, 2015=100\n",
              "             ...       \n",
              "1179    Index, 2015=100\n",
              "1180    Index, 2015=100\n",
              "1181    Index, 2015=100\n",
              "1182    Index, 2015=100\n",
              "1183    Index, 2015=100\n",
              "Name: UNIT_LABEL, Length: 1184, dtype: object>"
            ]
          },
          "metadata": {
            "tags": []
          },
          "execution_count": 106
        }
      ]
    },
    {
      "cell_type": "code",
      "metadata": {
        "colab": {
          "base_uri": "https://localhost:8080/"
        },
        "id": "4wA4b_Olt_74",
        "outputId": "0d148fda-39d9-4a31-b06e-2f66196169a5"
      },
      "source": [
        "df[\"UNIT\"].value_counts()"
      ],
      "execution_count": 107,
      "outputs": [
        {
          "output_type": "execute_result",
          "data": {
            "text/plain": [
              "I15    1184\n",
              "Name: UNIT, dtype: int64"
            ]
          },
          "metadata": {
            "tags": []
          },
          "execution_count": 107
        }
      ]
    },
    {
      "cell_type": "code",
      "metadata": {
        "colab": {
          "base_uri": "https://localhost:8080/"
        },
        "id": "MieyyVr2vGom",
        "outputId": "3a1f5225-1dca-42cd-9bdc-595ddca4e730"
      },
      "source": [
        "df[\"GEO\"].value_counts()"
      ],
      "execution_count": 108,
      "outputs": [
        {
          "output_type": "execute_result",
          "data": {
            "text/plain": [
              "EU27_2020    1184\n",
              "Name: GEO, dtype: int64"
            ]
          },
          "metadata": {
            "tags": []
          },
          "execution_count": 108
        }
      ]
    },
    {
      "cell_type": "code",
      "metadata": {
        "colab": {
          "base_uri": "https://localhost:8080/",
          "height": 197
        },
        "id": "6NLrvvk4vR9T",
        "outputId": "92017be7-a88e-4d2d-f9d2-16ad33036aa5"
      },
      "source": [
        "df = df.drop(columns =['GEO', \"UNIT\", \"UNIT_LABEL\", \"GEO_LABEL\"])\n",
        "df.head()"
      ],
      "execution_count": 109,
      "outputs": [
        {
          "output_type": "execute_result",
          "data": {
            "text/html": [
              "<div>\n",
              "<style scoped>\n",
              "    .dataframe tbody tr th:only-of-type {\n",
              "        vertical-align: middle;\n",
              "    }\n",
              "\n",
              "    .dataframe tbody tr th {\n",
              "        vertical-align: top;\n",
              "    }\n",
              "\n",
              "    .dataframe thead th {\n",
              "        text-align: right;\n",
              "    }\n",
              "</style>\n",
              "<table border=\"1\" class=\"dataframe\">\n",
              "  <thead>\n",
              "    <tr style=\"text-align: right;\">\n",
              "      <th></th>\n",
              "      <th>TIME</th>\n",
              "      <th>COICOP</th>\n",
              "      <th>COICOP_LABEL</th>\n",
              "      <th>Value</th>\n",
              "    </tr>\n",
              "  </thead>\n",
              "  <tbody>\n",
              "    <tr>\n",
              "      <th>0</th>\n",
              "      <td>2009M01</td>\n",
              "      <td>CP00</td>\n",
              "      <td>All-items HICP</td>\n",
              "      <td>90.32</td>\n",
              "    </tr>\n",
              "    <tr>\n",
              "      <th>1</th>\n",
              "      <td>2009M01</td>\n",
              "      <td>CP095</td>\n",
              "      <td>Newspapers, books and stationery</td>\n",
              "      <td>86.71</td>\n",
              "    </tr>\n",
              "    <tr>\n",
              "      <th>2</th>\n",
              "      <td>2009M01</td>\n",
              "      <td>CP0951</td>\n",
              "      <td>Books</td>\n",
              "      <td>93.38</td>\n",
              "    </tr>\n",
              "    <tr>\n",
              "      <th>3</th>\n",
              "      <td>2009M01</td>\n",
              "      <td>CP09511</td>\n",
              "      <td>Fiction books</td>\n",
              "      <td>:</td>\n",
              "    </tr>\n",
              "    <tr>\n",
              "      <th>4</th>\n",
              "      <td>2009M01</td>\n",
              "      <td>CP09512</td>\n",
              "      <td>Educational text books</td>\n",
              "      <td>:</td>\n",
              "    </tr>\n",
              "  </tbody>\n",
              "</table>\n",
              "</div>"
            ],
            "text/plain": [
              "      TIME   COICOP                      COICOP_LABEL  Value\n",
              "0  2009M01     CP00                    All-items HICP  90.32\n",
              "1  2009M01    CP095  Newspapers, books and stationery  86.71\n",
              "2  2009M01   CP0951                             Books  93.38\n",
              "3  2009M01  CP09511                     Fiction books      :\n",
              "4  2009M01  CP09512            Educational text books      :"
            ]
          },
          "metadata": {
            "tags": []
          },
          "execution_count": 109
        }
      ]
    },
    {
      "cell_type": "code",
      "metadata": {
        "colab": {
          "base_uri": "https://localhost:8080/",
          "height": 406
        },
        "id": "CCynZz6vwyeI",
        "outputId": "0c21b358-8cc1-4819-9826-330f2f9bec88"
      },
      "source": [
        "df"
      ],
      "execution_count": 110,
      "outputs": [
        {
          "output_type": "execute_result",
          "data": {
            "text/html": [
              "<div>\n",
              "<style scoped>\n",
              "    .dataframe tbody tr th:only-of-type {\n",
              "        vertical-align: middle;\n",
              "    }\n",
              "\n",
              "    .dataframe tbody tr th {\n",
              "        vertical-align: top;\n",
              "    }\n",
              "\n",
              "    .dataframe thead th {\n",
              "        text-align: right;\n",
              "    }\n",
              "</style>\n",
              "<table border=\"1\" class=\"dataframe\">\n",
              "  <thead>\n",
              "    <tr style=\"text-align: right;\">\n",
              "      <th></th>\n",
              "      <th>TIME</th>\n",
              "      <th>COICOP</th>\n",
              "      <th>COICOP_LABEL</th>\n",
              "      <th>Value</th>\n",
              "    </tr>\n",
              "  </thead>\n",
              "  <tbody>\n",
              "    <tr>\n",
              "      <th>0</th>\n",
              "      <td>2009M01</td>\n",
              "      <td>CP00</td>\n",
              "      <td>All-items HICP</td>\n",
              "      <td>90.32</td>\n",
              "    </tr>\n",
              "    <tr>\n",
              "      <th>1</th>\n",
              "      <td>2009M01</td>\n",
              "      <td>CP095</td>\n",
              "      <td>Newspapers, books and stationery</td>\n",
              "      <td>86.71</td>\n",
              "    </tr>\n",
              "    <tr>\n",
              "      <th>2</th>\n",
              "      <td>2009M01</td>\n",
              "      <td>CP0951</td>\n",
              "      <td>Books</td>\n",
              "      <td>93.38</td>\n",
              "    </tr>\n",
              "    <tr>\n",
              "      <th>3</th>\n",
              "      <td>2009M01</td>\n",
              "      <td>CP09511</td>\n",
              "      <td>Fiction books</td>\n",
              "      <td>:</td>\n",
              "    </tr>\n",
              "    <tr>\n",
              "      <th>4</th>\n",
              "      <td>2009M01</td>\n",
              "      <td>CP09512</td>\n",
              "      <td>Educational text books</td>\n",
              "      <td>:</td>\n",
              "    </tr>\n",
              "    <tr>\n",
              "      <th>...</th>\n",
              "      <td>...</td>\n",
              "      <td>...</td>\n",
              "      <td>...</td>\n",
              "      <td>...</td>\n",
              "    </tr>\n",
              "    <tr>\n",
              "      <th>1179</th>\n",
              "      <td>2021M04</td>\n",
              "      <td>CP09511</td>\n",
              "      <td>Fiction books</td>\n",
              "      <td>:</td>\n",
              "    </tr>\n",
              "    <tr>\n",
              "      <th>1180</th>\n",
              "      <td>2021M04</td>\n",
              "      <td>CP09512</td>\n",
              "      <td>Educational text books</td>\n",
              "      <td>:</td>\n",
              "    </tr>\n",
              "    <tr>\n",
              "      <th>1181</th>\n",
              "      <td>2021M04</td>\n",
              "      <td>CP09513</td>\n",
              "      <td>Other non-fiction books</td>\n",
              "      <td>:</td>\n",
              "    </tr>\n",
              "    <tr>\n",
              "      <th>1182</th>\n",
              "      <td>2021M04</td>\n",
              "      <td>CP09514</td>\n",
              "      <td>Binding services and E-book downloads</td>\n",
              "      <td>:</td>\n",
              "    </tr>\n",
              "    <tr>\n",
              "      <th>1183</th>\n",
              "      <td>2021M04</td>\n",
              "      <td>CP09522</td>\n",
              "      <td>Magazines and periodicals</td>\n",
              "      <td>:</td>\n",
              "    </tr>\n",
              "  </tbody>\n",
              "</table>\n",
              "<p>1184 rows × 4 columns</p>\n",
              "</div>"
            ],
            "text/plain": [
              "         TIME   COICOP                           COICOP_LABEL  Value\n",
              "0     2009M01     CP00                         All-items HICP  90.32\n",
              "1     2009M01    CP095       Newspapers, books and stationery  86.71\n",
              "2     2009M01   CP0951                                  Books  93.38\n",
              "3     2009M01  CP09511                          Fiction books      :\n",
              "4     2009M01  CP09512                 Educational text books      :\n",
              "...       ...      ...                                    ...    ...\n",
              "1179  2021M04  CP09511                          Fiction books      :\n",
              "1180  2021M04  CP09512                 Educational text books      :\n",
              "1181  2021M04  CP09513                Other non-fiction books      :\n",
              "1182  2021M04  CP09514  Binding services and E-book downloads      :\n",
              "1183  2021M04  CP09522              Magazines and periodicals      :\n",
              "\n",
              "[1184 rows x 4 columns]"
            ]
          },
          "metadata": {
            "tags": []
          },
          "execution_count": 110
        }
      ]
    },
    {
      "cell_type": "code",
      "metadata": {
        "colab": {
          "base_uri": "https://localhost:8080/"
        },
        "id": "7_3D8kn_vmKe",
        "outputId": "a8a8bb5d-6847-4aa0-92d6-5d15cdd9275c"
      },
      "source": [
        "df[\"COICOP_LABEL\"].value_counts"
      ],
      "execution_count": 111,
      "outputs": [
        {
          "output_type": "execute_result",
          "data": {
            "text/plain": [
              "<bound method IndexOpsMixin.value_counts of 0                              All-items HICP\n",
              "1            Newspapers, books and stationery\n",
              "2                                       Books\n",
              "3                               Fiction books\n",
              "4                      Educational text books\n",
              "                        ...                  \n",
              "1179                            Fiction books\n",
              "1180                   Educational text books\n",
              "1181                  Other non-fiction books\n",
              "1182    Binding services and E-book downloads\n",
              "1183                Magazines and periodicals\n",
              "Name: COICOP_LABEL, Length: 1184, dtype: object>"
            ]
          },
          "metadata": {
            "tags": []
          },
          "execution_count": 111
        }
      ]
    },
    {
      "cell_type": "code",
      "metadata": {
        "colab": {
          "base_uri": "https://localhost:8080/"
        },
        "id": "f7l2a0VrwGK5",
        "outputId": "011e6529-0919-4557-93ce-4e705ac1ae5b"
      },
      "source": [
        "df['Value'].isnull()"
      ],
      "execution_count": 112,
      "outputs": [
        {
          "output_type": "execute_result",
          "data": {
            "text/plain": [
              "0       False\n",
              "1       False\n",
              "2       False\n",
              "3       False\n",
              "4       False\n",
              "        ...  \n",
              "1179    False\n",
              "1180    False\n",
              "1181    False\n",
              "1182    False\n",
              "1183    False\n",
              "Name: Value, Length: 1184, dtype: bool"
            ]
          },
          "metadata": {
            "tags": []
          },
          "execution_count": 112
        }
      ]
    },
    {
      "cell_type": "code",
      "metadata": {
        "colab": {
          "base_uri": "https://localhost:8080/"
        },
        "id": "gefLLIUUwmDC",
        "outputId": "58aba041-57ec-44c5-945b-d9a0eb2cc68a"
      },
      "source": [
        "df.isnull().values.any()"
      ],
      "execution_count": 113,
      "outputs": [
        {
          "output_type": "execute_result",
          "data": {
            "text/plain": [
              "False"
            ]
          },
          "metadata": {
            "tags": []
          },
          "execution_count": 113
        }
      ]
    },
    {
      "cell_type": "code",
      "metadata": {
        "colab": {
          "base_uri": "https://localhost:8080/"
        },
        "id": "O_Mu9NzUwsN_",
        "outputId": "e72fdee5-f2ea-4528-ba11-13091e59f884"
      },
      "source": [
        "books = df['COICOP_LABEL']== \"Books\"\n",
        "books"
      ],
      "execution_count": 114,
      "outputs": [
        {
          "output_type": "execute_result",
          "data": {
            "text/plain": [
              "0       False\n",
              "1       False\n",
              "2        True\n",
              "3       False\n",
              "4       False\n",
              "        ...  \n",
              "1179    False\n",
              "1180    False\n",
              "1181    False\n",
              "1182    False\n",
              "1183    False\n",
              "Name: COICOP_LABEL, Length: 1184, dtype: bool"
            ]
          },
          "metadata": {
            "tags": []
          },
          "execution_count": 114
        }
      ]
    },
    {
      "cell_type": "code",
      "metadata": {
        "colab": {
          "base_uri": "https://localhost:8080/",
          "height": 197
        },
        "id": "K_z-BGlJ0AEK",
        "outputId": "4c3bd059-e03d-4192-f161-893e3f18d2f9"
      },
      "source": [
        "df[books].head()"
      ],
      "execution_count": 115,
      "outputs": [
        {
          "output_type": "execute_result",
          "data": {
            "text/html": [
              "<div>\n",
              "<style scoped>\n",
              "    .dataframe tbody tr th:only-of-type {\n",
              "        vertical-align: middle;\n",
              "    }\n",
              "\n",
              "    .dataframe tbody tr th {\n",
              "        vertical-align: top;\n",
              "    }\n",
              "\n",
              "    .dataframe thead th {\n",
              "        text-align: right;\n",
              "    }\n",
              "</style>\n",
              "<table border=\"1\" class=\"dataframe\">\n",
              "  <thead>\n",
              "    <tr style=\"text-align: right;\">\n",
              "      <th></th>\n",
              "      <th>TIME</th>\n",
              "      <th>COICOP</th>\n",
              "      <th>COICOP_LABEL</th>\n",
              "      <th>Value</th>\n",
              "    </tr>\n",
              "  </thead>\n",
              "  <tbody>\n",
              "    <tr>\n",
              "      <th>2</th>\n",
              "      <td>2009M01</td>\n",
              "      <td>CP0951</td>\n",
              "      <td>Books</td>\n",
              "      <td>93.38</td>\n",
              "    </tr>\n",
              "    <tr>\n",
              "      <th>10</th>\n",
              "      <td>2009M02</td>\n",
              "      <td>CP0951</td>\n",
              "      <td>Books</td>\n",
              "      <td>93.36</td>\n",
              "    </tr>\n",
              "    <tr>\n",
              "      <th>18</th>\n",
              "      <td>2009M03</td>\n",
              "      <td>CP0951</td>\n",
              "      <td>Books</td>\n",
              "      <td>93.31</td>\n",
              "    </tr>\n",
              "    <tr>\n",
              "      <th>26</th>\n",
              "      <td>2009M04</td>\n",
              "      <td>CP0951</td>\n",
              "      <td>Books</td>\n",
              "      <td>93.40</td>\n",
              "    </tr>\n",
              "    <tr>\n",
              "      <th>34</th>\n",
              "      <td>2009M05</td>\n",
              "      <td>CP0951</td>\n",
              "      <td>Books</td>\n",
              "      <td>93.28</td>\n",
              "    </tr>\n",
              "  </tbody>\n",
              "</table>\n",
              "</div>"
            ],
            "text/plain": [
              "       TIME  COICOP COICOP_LABEL  Value\n",
              "2   2009M01  CP0951        Books  93.38\n",
              "10  2009M02  CP0951        Books  93.36\n",
              "18  2009M03  CP0951        Books  93.31\n",
              "26  2009M04  CP0951        Books  93.40\n",
              "34  2009M05  CP0951        Books  93.28"
            ]
          },
          "metadata": {
            "tags": []
          },
          "execution_count": 115
        }
      ]
    },
    {
      "cell_type": "code",
      "metadata": {
        "colab": {
          "base_uri": "https://localhost:8080/",
          "height": 406
        },
        "id": "OZ-Jn4Lf-Nip",
        "outputId": "afdd22ab-34d9-4230-cd4e-9bbde0d33f70"
      },
      "source": [
        "books1= df.loc[books,:]\n",
        "books1"
      ],
      "execution_count": 116,
      "outputs": [
        {
          "output_type": "execute_result",
          "data": {
            "text/html": [
              "<div>\n",
              "<style scoped>\n",
              "    .dataframe tbody tr th:only-of-type {\n",
              "        vertical-align: middle;\n",
              "    }\n",
              "\n",
              "    .dataframe tbody tr th {\n",
              "        vertical-align: top;\n",
              "    }\n",
              "\n",
              "    .dataframe thead th {\n",
              "        text-align: right;\n",
              "    }\n",
              "</style>\n",
              "<table border=\"1\" class=\"dataframe\">\n",
              "  <thead>\n",
              "    <tr style=\"text-align: right;\">\n",
              "      <th></th>\n",
              "      <th>TIME</th>\n",
              "      <th>COICOP</th>\n",
              "      <th>COICOP_LABEL</th>\n",
              "      <th>Value</th>\n",
              "    </tr>\n",
              "  </thead>\n",
              "  <tbody>\n",
              "    <tr>\n",
              "      <th>2</th>\n",
              "      <td>2009M01</td>\n",
              "      <td>CP0951</td>\n",
              "      <td>Books</td>\n",
              "      <td>93.38</td>\n",
              "    </tr>\n",
              "    <tr>\n",
              "      <th>10</th>\n",
              "      <td>2009M02</td>\n",
              "      <td>CP0951</td>\n",
              "      <td>Books</td>\n",
              "      <td>93.36</td>\n",
              "    </tr>\n",
              "    <tr>\n",
              "      <th>18</th>\n",
              "      <td>2009M03</td>\n",
              "      <td>CP0951</td>\n",
              "      <td>Books</td>\n",
              "      <td>93.31</td>\n",
              "    </tr>\n",
              "    <tr>\n",
              "      <th>26</th>\n",
              "      <td>2009M04</td>\n",
              "      <td>CP0951</td>\n",
              "      <td>Books</td>\n",
              "      <td>93.40</td>\n",
              "    </tr>\n",
              "    <tr>\n",
              "      <th>34</th>\n",
              "      <td>2009M05</td>\n",
              "      <td>CP0951</td>\n",
              "      <td>Books</td>\n",
              "      <td>93.28</td>\n",
              "    </tr>\n",
              "    <tr>\n",
              "      <th>...</th>\n",
              "      <td>...</td>\n",
              "      <td>...</td>\n",
              "      <td>...</td>\n",
              "      <td>...</td>\n",
              "    </tr>\n",
              "    <tr>\n",
              "      <th>1146</th>\n",
              "      <td>2020M12</td>\n",
              "      <td>CP0951</td>\n",
              "      <td>Books</td>\n",
              "      <td>104.32</td>\n",
              "    </tr>\n",
              "    <tr>\n",
              "      <th>1154</th>\n",
              "      <td>2021M01</td>\n",
              "      <td>CP0951</td>\n",
              "      <td>Books</td>\n",
              "      <td>104.23</td>\n",
              "    </tr>\n",
              "    <tr>\n",
              "      <th>1162</th>\n",
              "      <td>2021M02</td>\n",
              "      <td>CP0951</td>\n",
              "      <td>Books</td>\n",
              "      <td>104.55</td>\n",
              "    </tr>\n",
              "    <tr>\n",
              "      <th>1170</th>\n",
              "      <td>2021M03</td>\n",
              "      <td>CP0951</td>\n",
              "      <td>Books</td>\n",
              "      <td>103.17</td>\n",
              "    </tr>\n",
              "    <tr>\n",
              "      <th>1178</th>\n",
              "      <td>2021M04</td>\n",
              "      <td>CP0951</td>\n",
              "      <td>Books</td>\n",
              "      <td>:</td>\n",
              "    </tr>\n",
              "  </tbody>\n",
              "</table>\n",
              "<p>148 rows × 4 columns</p>\n",
              "</div>"
            ],
            "text/plain": [
              "         TIME  COICOP COICOP_LABEL   Value\n",
              "2     2009M01  CP0951        Books   93.38\n",
              "10    2009M02  CP0951        Books   93.36\n",
              "18    2009M03  CP0951        Books   93.31\n",
              "26    2009M04  CP0951        Books   93.40\n",
              "34    2009M05  CP0951        Books   93.28\n",
              "...       ...     ...          ...     ...\n",
              "1146  2020M12  CP0951        Books  104.32\n",
              "1154  2021M01  CP0951        Books  104.23\n",
              "1162  2021M02  CP0951        Books  104.55\n",
              "1170  2021M03  CP0951        Books  103.17\n",
              "1178  2021M04  CP0951        Books       :\n",
              "\n",
              "[148 rows x 4 columns]"
            ]
          },
          "metadata": {
            "tags": []
          },
          "execution_count": 116
        }
      ]
    },
    {
      "cell_type": "code",
      "metadata": {
        "colab": {
          "base_uri": "https://localhost:8080/"
        },
        "id": "rewHiyb_0CbU",
        "outputId": "4b4f949d-b41d-48b0-f281-15a19764ac78"
      },
      "source": [
        "all_products = df['COICOP_LABEL'] !=\"Books\"\n",
        "all_products"
      ],
      "execution_count": 117,
      "outputs": [
        {
          "output_type": "execute_result",
          "data": {
            "text/plain": [
              "0        True\n",
              "1        True\n",
              "2       False\n",
              "3        True\n",
              "4        True\n",
              "        ...  \n",
              "1179     True\n",
              "1180     True\n",
              "1181     True\n",
              "1182     True\n",
              "1183     True\n",
              "Name: COICOP_LABEL, Length: 1184, dtype: bool"
            ]
          },
          "metadata": {
            "tags": []
          },
          "execution_count": 117
        }
      ]
    },
    {
      "cell_type": "code",
      "metadata": {
        "colab": {
          "base_uri": "https://localhost:8080/",
          "height": 197
        },
        "id": "b48fF9eI0-hB",
        "outputId": "2e3878df-94c9-4864-a188-edc39bff2099"
      },
      "source": [
        "df[all_products].head()"
      ],
      "execution_count": 118,
      "outputs": [
        {
          "output_type": "execute_result",
          "data": {
            "text/html": [
              "<div>\n",
              "<style scoped>\n",
              "    .dataframe tbody tr th:only-of-type {\n",
              "        vertical-align: middle;\n",
              "    }\n",
              "\n",
              "    .dataframe tbody tr th {\n",
              "        vertical-align: top;\n",
              "    }\n",
              "\n",
              "    .dataframe thead th {\n",
              "        text-align: right;\n",
              "    }\n",
              "</style>\n",
              "<table border=\"1\" class=\"dataframe\">\n",
              "  <thead>\n",
              "    <tr style=\"text-align: right;\">\n",
              "      <th></th>\n",
              "      <th>TIME</th>\n",
              "      <th>COICOP</th>\n",
              "      <th>COICOP_LABEL</th>\n",
              "      <th>Value</th>\n",
              "    </tr>\n",
              "  </thead>\n",
              "  <tbody>\n",
              "    <tr>\n",
              "      <th>0</th>\n",
              "      <td>2009M01</td>\n",
              "      <td>CP00</td>\n",
              "      <td>All-items HICP</td>\n",
              "      <td>90.32</td>\n",
              "    </tr>\n",
              "    <tr>\n",
              "      <th>1</th>\n",
              "      <td>2009M01</td>\n",
              "      <td>CP095</td>\n",
              "      <td>Newspapers, books and stationery</td>\n",
              "      <td>86.71</td>\n",
              "    </tr>\n",
              "    <tr>\n",
              "      <th>3</th>\n",
              "      <td>2009M01</td>\n",
              "      <td>CP09511</td>\n",
              "      <td>Fiction books</td>\n",
              "      <td>:</td>\n",
              "    </tr>\n",
              "    <tr>\n",
              "      <th>4</th>\n",
              "      <td>2009M01</td>\n",
              "      <td>CP09512</td>\n",
              "      <td>Educational text books</td>\n",
              "      <td>:</td>\n",
              "    </tr>\n",
              "    <tr>\n",
              "      <th>5</th>\n",
              "      <td>2009M01</td>\n",
              "      <td>CP09513</td>\n",
              "      <td>Other non-fiction books</td>\n",
              "      <td>:</td>\n",
              "    </tr>\n",
              "  </tbody>\n",
              "</table>\n",
              "</div>"
            ],
            "text/plain": [
              "      TIME   COICOP                      COICOP_LABEL  Value\n",
              "0  2009M01     CP00                    All-items HICP  90.32\n",
              "1  2009M01    CP095  Newspapers, books and stationery  86.71\n",
              "3  2009M01  CP09511                     Fiction books      :\n",
              "4  2009M01  CP09512            Educational text books      :\n",
              "5  2009M01  CP09513           Other non-fiction books      :"
            ]
          },
          "metadata": {
            "tags": []
          },
          "execution_count": 118
        }
      ]
    },
    {
      "cell_type": "code",
      "metadata": {
        "colab": {
          "base_uri": "https://localhost:8080/"
        },
        "id": "C8I_eGS31ENz",
        "outputId": "8a20b195-a760-47a0-96bf-a419a5088124"
      },
      "source": [
        "df[\"TIME\"].value_counts"
      ],
      "execution_count": 119,
      "outputs": [
        {
          "output_type": "execute_result",
          "data": {
            "text/plain": [
              "<bound method IndexOpsMixin.value_counts of 0       2009M01\n",
              "1       2009M01\n",
              "2       2009M01\n",
              "3       2009M01\n",
              "4       2009M01\n",
              "         ...   \n",
              "1179    2021M04\n",
              "1180    2021M04\n",
              "1181    2021M04\n",
              "1182    2021M04\n",
              "1183    2021M04\n",
              "Name: TIME, Length: 1184, dtype: object>"
            ]
          },
          "metadata": {
            "tags": []
          },
          "execution_count": 119
        }
      ]
    },
    {
      "cell_type": "code",
      "metadata": {
        "colab": {
          "base_uri": "https://localhost:8080/"
        },
        "id": "hQKp3kxVMkp2",
        "outputId": "3004c577-26d0-4910-c17e-ab14df6587f4"
      },
      "source": [
        "df[\"TIME\"].tail()"
      ],
      "execution_count": 120,
      "outputs": [
        {
          "output_type": "execute_result",
          "data": {
            "text/plain": [
              "1179    2021M04\n",
              "1180    2021M04\n",
              "1181    2021M04\n",
              "1182    2021M04\n",
              "1183    2021M04\n",
              "Name: TIME, dtype: object"
            ]
          },
          "metadata": {
            "tags": []
          },
          "execution_count": 120
        }
      ]
    },
    {
      "cell_type": "code",
      "metadata": {
        "colab": {
          "base_uri": "https://localhost:8080/",
          "height": 167
        },
        "id": "GjO6dIY08vuK",
        "outputId": "0f78301c-2335-4597-b794-1d5a09cfe50a"
      },
      "source": [
        "df.describe()"
      ],
      "execution_count": 121,
      "outputs": [
        {
          "output_type": "execute_result",
          "data": {
            "text/html": [
              "<div>\n",
              "<style scoped>\n",
              "    .dataframe tbody tr th:only-of-type {\n",
              "        vertical-align: middle;\n",
              "    }\n",
              "\n",
              "    .dataframe tbody tr th {\n",
              "        vertical-align: top;\n",
              "    }\n",
              "\n",
              "    .dataframe thead th {\n",
              "        text-align: right;\n",
              "    }\n",
              "</style>\n",
              "<table border=\"1\" class=\"dataframe\">\n",
              "  <thead>\n",
              "    <tr style=\"text-align: right;\">\n",
              "      <th></th>\n",
              "      <th>TIME</th>\n",
              "      <th>COICOP</th>\n",
              "      <th>COICOP_LABEL</th>\n",
              "      <th>Value</th>\n",
              "    </tr>\n",
              "  </thead>\n",
              "  <tbody>\n",
              "    <tr>\n",
              "      <th>count</th>\n",
              "      <td>1184</td>\n",
              "      <td>1184</td>\n",
              "      <td>1184</td>\n",
              "      <td>1184</td>\n",
              "    </tr>\n",
              "    <tr>\n",
              "      <th>unique</th>\n",
              "      <td>148</td>\n",
              "      <td>8</td>\n",
              "      <td>8</td>\n",
              "      <td>559</td>\n",
              "    </tr>\n",
              "    <tr>\n",
              "      <th>top</th>\n",
              "      <td>2012M05</td>\n",
              "      <td>CP09514</td>\n",
              "      <td>Books</td>\n",
              "      <td>:</td>\n",
              "    </tr>\n",
              "    <tr>\n",
              "      <th>freq</th>\n",
              "      <td>8</td>\n",
              "      <td>148</td>\n",
              "      <td>148</td>\n",
              "      <td>483</td>\n",
              "    </tr>\n",
              "  </tbody>\n",
              "</table>\n",
              "</div>"
            ],
            "text/plain": [
              "           TIME   COICOP COICOP_LABEL Value\n",
              "count      1184     1184         1184  1184\n",
              "unique      148        8            8   559\n",
              "top     2012M05  CP09514        Books     :\n",
              "freq          8      148          148   483"
            ]
          },
          "metadata": {
            "tags": []
          },
          "execution_count": 121
        }
      ]
    },
    {
      "cell_type": "code",
      "metadata": {
        "id": "A_qP_lPZBPC6"
      },
      "source": [
        ""
      ],
      "execution_count": 121,
      "outputs": []
    },
    {
      "cell_type": "code",
      "metadata": {
        "colab": {
          "base_uri": "https://localhost:8080/",
          "height": 197
        },
        "id": "_66gVNX3FU5_",
        "outputId": "9bb05cf0-7c85-4f07-d4a2-aa2c8f5e0482"
      },
      "source": [
        "books1 = books1.sort_values(by = 'TIME')\n",
        "books1.head()"
      ],
      "execution_count": 122,
      "outputs": [
        {
          "output_type": "execute_result",
          "data": {
            "text/html": [
              "<div>\n",
              "<style scoped>\n",
              "    .dataframe tbody tr th:only-of-type {\n",
              "        vertical-align: middle;\n",
              "    }\n",
              "\n",
              "    .dataframe tbody tr th {\n",
              "        vertical-align: top;\n",
              "    }\n",
              "\n",
              "    .dataframe thead th {\n",
              "        text-align: right;\n",
              "    }\n",
              "</style>\n",
              "<table border=\"1\" class=\"dataframe\">\n",
              "  <thead>\n",
              "    <tr style=\"text-align: right;\">\n",
              "      <th></th>\n",
              "      <th>TIME</th>\n",
              "      <th>COICOP</th>\n",
              "      <th>COICOP_LABEL</th>\n",
              "      <th>Value</th>\n",
              "    </tr>\n",
              "  </thead>\n",
              "  <tbody>\n",
              "    <tr>\n",
              "      <th>2</th>\n",
              "      <td>2009M01</td>\n",
              "      <td>CP0951</td>\n",
              "      <td>Books</td>\n",
              "      <td>93.38</td>\n",
              "    </tr>\n",
              "    <tr>\n",
              "      <th>10</th>\n",
              "      <td>2009M02</td>\n",
              "      <td>CP0951</td>\n",
              "      <td>Books</td>\n",
              "      <td>93.36</td>\n",
              "    </tr>\n",
              "    <tr>\n",
              "      <th>18</th>\n",
              "      <td>2009M03</td>\n",
              "      <td>CP0951</td>\n",
              "      <td>Books</td>\n",
              "      <td>93.31</td>\n",
              "    </tr>\n",
              "    <tr>\n",
              "      <th>26</th>\n",
              "      <td>2009M04</td>\n",
              "      <td>CP0951</td>\n",
              "      <td>Books</td>\n",
              "      <td>93.40</td>\n",
              "    </tr>\n",
              "    <tr>\n",
              "      <th>34</th>\n",
              "      <td>2009M05</td>\n",
              "      <td>CP0951</td>\n",
              "      <td>Books</td>\n",
              "      <td>93.28</td>\n",
              "    </tr>\n",
              "  </tbody>\n",
              "</table>\n",
              "</div>"
            ],
            "text/plain": [
              "       TIME  COICOP COICOP_LABEL  Value\n",
              "2   2009M01  CP0951        Books  93.38\n",
              "10  2009M02  CP0951        Books  93.36\n",
              "18  2009M03  CP0951        Books  93.31\n",
              "26  2009M04  CP0951        Books  93.40\n",
              "34  2009M05  CP0951        Books  93.28"
            ]
          },
          "metadata": {
            "tags": []
          },
          "execution_count": 122
        }
      ]
    },
    {
      "cell_type": "code",
      "metadata": {
        "colab": {
          "base_uri": "https://localhost:8080/"
        },
        "id": "J0_P17J_JxKJ",
        "outputId": "dbdec4a2-660c-4881-c4b3-09d52ed56670"
      },
      "source": [
        "books1.value_counts()"
      ],
      "execution_count": 123,
      "outputs": [
        {
          "output_type": "execute_result",
          "data": {
            "text/plain": [
              "TIME     COICOP  COICOP_LABEL  Value \n",
              "2021M04  CP0951  Books         :         1\n",
              "2013M07  CP0951  Books         97.69     1\n",
              "2013M05  CP0951  Books         97.84     1\n",
              "2013M04  CP0951  Books         98.33     1\n",
              "2013M03  CP0951  Books         98.35     1\n",
              "                                        ..\n",
              "2017M03  CP0951  Books         99.57     1\n",
              "2017M02  CP0951  Books         100.83    1\n",
              "2017M01  CP0951  Books         100.99    1\n",
              "2016M12  CP0951  Books         101.37    1\n",
              "2009M01  CP0951  Books         93.38     1\n",
              "Length: 148, dtype: int64"
            ]
          },
          "metadata": {
            "tags": []
          },
          "execution_count": 123
        }
      ]
    },
    {
      "cell_type": "code",
      "metadata": {
        "colab": {
          "base_uri": "https://localhost:8080/",
          "height": 750
        },
        "id": "8t7dq3yF6lM0",
        "outputId": "e05776a1-0e2f-4c7b-83d2-dfc8eaf4ea38"
      },
      "source": [
        "plt.scatter(books1['TIME'], books1['Value']);\n",
        "import matplotlib.pyplot as plt\n",
        "plt.rcParams[\"figure.figsize\"] = (15,8)\n",
        "\n",
        "x = \"books1['TIME']\"\n",
        "y = \"books1['Value']\"\n",
        "plt.xticks(np.arange(0, len(x)+140, 10))\n",
        "plt.yticks(np.arange(0, len(y)+120, 10))"
      ],
      "execution_count": 124,
      "outputs": [
        {
          "output_type": "execute_result",
          "data": {
            "text/plain": [
              "([<matplotlib.axis.YTick at 0x7f4787d55150>,\n",
              "  <matplotlib.axis.YTick at 0x7f4787d2c910>,\n",
              "  <matplotlib.axis.YTick at 0x7f4787d3cdd0>,\n",
              "  <matplotlib.axis.YTick at 0x7f4787d25910>,\n",
              "  <matplotlib.axis.YTick at 0x7f4787d25dd0>,\n",
              "  <matplotlib.axis.YTick at 0x7f4787cab350>,\n",
              "  <matplotlib.axis.YTick at 0x7f4787cab8d0>,\n",
              "  <matplotlib.axis.YTick at 0x7f4787cabe10>,\n",
              "  <matplotlib.axis.YTick at 0x7f4787cb7390>,\n",
              "  <matplotlib.axis.YTick at 0x7f4787cb78d0>,\n",
              "  <matplotlib.axis.YTick at 0x7f4787cb7dd0>,\n",
              "  <matplotlib.axis.YTick at 0x7f4787cb7fd0>,\n",
              "  <matplotlib.axis.YTick at 0x7f4787d0e790>,\n",
              "  <matplotlib.axis.YTick at 0x7f4787cabe90>],\n",
              " <a list of 14 Text major ticklabel objects>)"
            ]
          },
          "metadata": {
            "tags": []
          },
          "execution_count": 124
        },
        {
          "output_type": "display_data",
          "data": {
            "image/png": "[encoded data removed]",
            "text/plain": [
              "<Figure size 1080x576 with 1 Axes>"
            ]
          },
          "metadata": {
            "tags": [],
            "needs_background": "light"
          }
        }
      ]
    },
    {
      "cell_type": "code",
      "metadata": {
        "id": "GFByw_CSBx8q"
      },
      "source": [
        ""
      ],
      "execution_count": 124,
      "outputs": []
    }
  ]
}